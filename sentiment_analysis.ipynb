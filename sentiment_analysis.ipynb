{
 "cells": [
  {
   "cell_type": "markdown",
   "metadata": {},
   "source": [
    "<!-- \n",
    "This Jupyter notebook is an almost-complete transcription of the article \"Sentiment Analysis: First Steps With Python's NLTK Library\" written by Marius Mogyorosi for RealPython. \n",
    "\n",
    "The article can be found at https://realpython.com/python-nltk-sentiment-analysis/ \n",
    "\n",
    "\n",
    "I have removed and/or altered some portions of the original article to better fit the context of a Jupyter notebook.\n",
    "-->\n",
    "# __Sentiment Analysis in Python using NLTK__\n",
    "\n",
    "### <u>Introduction to NLTK</u>\n",
    "\n",
    "NLTK (Natural Language ToolKit) is a Python library which contains a variety of utilities that allow you to effectively manipulate and analyze linguistic data. Among its advanced features are __text classifiers__ that you can use for many kinds of classification, including sentiment analysis.\n",
    "\n",
    "__Sentiment analysis__ is the practice fo using algorithms to classify various samples of related text into overall positive and negative categories. With NLTK, you can employ these algorithms through powerful built-in machine learning operations to obtain insights from linguistic data.\n",
    "\n",
    "After using <code>pip</code> to install the <code>nltk</code> library, execute the following code to download the corpora used in this notebook.\n",
    "\n",
    "> <u>__Note</u>:__\n",
    "> The word __corpus__ and its plural form, __corpora__ refer to large collections of related text samples. In the context of NLTK, corpora are compiled with features for [natural language processing (NLP)](https://en.wikipedia.org/wiki/Natural_language_processing), such as categories and numerical scores for particular features."
   ]
  },
  {
   "cell_type": "code",
   "execution_count": null,
   "metadata": {
    "tags": []
   },
   "outputs": [],
   "source": [
    "import nltk\n",
    "\n",
    "nltk.download([\n",
    "   \"names\",\n",
    "   \"stopwords\",\n",
    "   \"state_union\",\n",
    "   \"twitter_samples\",\n",
    "   \"movie_reviews\",\n",
    "   \"averaged_perceptron_tagger\",\n",
    "   \"vader_lexicon\",\n",
    "   \"punkt\",\n",
    "])"
   ]
  },
  {
   "attachments": {
    "image.png": {
     "image/png": "[encoded data removed]"
    }
   },
   "cell_type": "markdown",
   "metadata": {},
   "source": [
    "The corpora being used in this notebook are:\n",
    "\n",
    "- __names__: A [list of common English names](https://www.cs.cmu.edu/afs/cs/project/ai-repository/ai/areas/nlp/corpora/names/) compiled by Mark Kantrowitz\n",
    "- __stopwords__: A list of really common words, like articles, pronouns, prepositions and conjunctions\n",
    "- __state_union__: A sample of transcribed [State of the Union](https://en.wikipedia.org/wiki/State_of_the_Union) addresses by different US presidentsm compiled by Kathleen Ahrens\n",
    "- __twitter_samples__: A list of social media phrases posted to Twitter\n",
    "- __movie_reviews__: [Two thousand movie reviews](https://www.cs.cornell.edu/people/pabo/movie-review-data/) categorized by Bo Pang and Lillian Lee\n",
    "- __averaged_perceptron_tagger__: A data model that NLTK uses to categorize words into their [part of speech](https://en.wikipedia.org/wiki/Part_of_speech)\n",
    "- __vader_lexicon__: A scored [list of words and jargon](https://github.com/cjhutto/vaderSentiment) that NLTK references when performing sentiment analysis, created by C.J. Hutto and Eric Gilbert\n",
    "- __punkt__: A data model created by Jan Strunk that NLTK uses to split full texts into word lists.\n",
    "\n",
    "To view all of the available corpora and pre-trained models, run <code>nltk.download()</code>.\n",
    "\n",
    "If NLTK requires resources that you have yet to install, you'll see a <code>LookupError</code> with details and instructions to download the resource:\n",
    "\n",
    "![image.png](attachment:image.png)\n"
   ]
  },
  {
   "cell_type": "markdown",
   "metadata": {},
   "source": [
    "\n",
    "---\n",
    "### <u>Compiling Data</u>\n",
    "\n",
    "NLTK provides a number of functions that you can call with few or no arguments that will help you meaningfully analyze text before you even touch its machine learning capabilities. Many of NLTK's utilities are helpful in preparing your data for more advanced analysis.\n",
    "\n",
    "Soon, you'll learn about frequency distributions, concordance, and collocations. But first, you need some data.\n",
    "\n",
    "Start by loading the State of the Union corpus that was downloaded earlier:"
   ]
  },
  {
   "cell_type": "code",
   "execution_count": null,
   "metadata": {},
   "outputs": [],
   "source": [
    "words = [word for word in nltk.corpus.state_union.words() if word.isalpha()]\n",
    "\n",
    "# This is equivalent to:\n",
    "# words = []\n",
    "# for word in nltk.corpus.state_union.words():\n",
    "#     if word.isalpha():\n",
    "#         words.append(word)"
   ]
  },
  {
   "cell_type": "markdown",
   "metadata": {},
   "source": [
    "Note that you build a list of individual words with the corpus's <code>.words()</code> method, but you use <code>str.isalpha()</code> to include only the words that are made up of letters. Otherwise, your words list may end up with \"words\" that are only punctuation marks.\n",
    "\n",
    "Have a look at your list:"
   ]
  },
  {
   "cell_type": "code",
   "execution_count": null,
   "metadata": {},
   "outputs": [],
   "source": [
    "from pprint import pprint   # pretty print\n",
    "\n",
    "pprint(words[:25], compact=True)   # This is an extraordinarly long list, \n",
    "                                   # so we'll stick to 50 words here"
   ]
  },
  {
   "cell_type": "markdown",
   "metadata": {},
   "source": [
    "You'll notice lots of little words like \"of\", \"a\", \"the\", and similar. These common words are called __stop words__, and they can have a negative effect on your analysis because they occur so often in the text. Thankfully, there's a convenient way to filter them out.\n",
    "\n",
    "NLTK provides a small corpus of stop words that you can load into a list:"
   ]
  },
  {
   "cell_type": "code",
   "execution_count": null,
   "metadata": {},
   "outputs": [],
   "source": [
    "stopwords = nltk.corpus.stopwords.words(\"english\")"
   ]
  },
  {
   "cell_type": "markdown",
   "metadata": {},
   "source": [
    "Make sure to specify <code>english</code> as the desired language since this corpus contains stop words in various languages.\n",
    "\n",
    "Now, you can remove stop words from your original word list:"
   ]
  },
  {
   "cell_type": "code",
   "execution_count": null,
   "metadata": {},
   "outputs": [],
   "source": [
    "words = [word for word in words if word.lower() not in stopwords]\n",
    "\n",
    "pprint(words[:25], compact=True)"
   ]
  },
  {
   "cell_type": "code",
   "execution_count": null,
   "metadata": {},
   "outputs": [],
   "source": [
    "# You can also remove stop words from the list on creation\n",
    "words2 = [word for word in nltk.corpus.state_union.words() \n",
    "         if word.isalpha() and word.lower() not in stopwords]\n",
    "print('\\n')\n",
    "pprint(words2[:25], compact=True)\n",
    "\n",
    "print('\\n', words == words2)"
   ]
  },
  {
   "cell_type": "markdown",
   "metadata": {},
   "source": [
    "Since all words in the <code>stopwords</code> list are lowercase, and those in the original list may not be, you use <code>str.lower()</code> to account for any discrepancies. Otherwise, you may end up with mixedCase or capitalized stop words still in your list.\n",
    "\n",
    "While the corpora used in this notebook are provided by NLTK, it's possible to build your own text corpora from any source. Building a corpus can be as simple as loading some plain text or as complex as labeling and categorizing each sentence. Refer to NLTK's documentation for more information on [how to work with corpus readers](https://www.nltk.org/howto/corpus.html).\n",
    "\n",
    "For some quick analysis, creating a corpus could be overkill. If all you need is a word list, there are simpler ways to achieve this goal. Beyond Python's own string manipulation methods, NLTK provides <code>nltk.word_tokenize()</code>, a function that splits raw text into individual words. While __tokenization__ is itself a bigger topic (and likely one of the steps you'll take when creating a custom corpus), this tokenizer delivers simple word lists really well.\n",
    "\n",
    "To use it, call <code>word_tokenize()</code> with the raw text you want to split:"
   ]
  },
  {
   "cell_type": "code",
   "execution_count": null,
   "metadata": {},
   "outputs": [],
   "source": [
    "text = \"For some quick analysis, creating a corpus could be overkill. If all you need is a word list, there are simpler ways to achieve this goal.\"\n",
    "\n",
    "pprint(nltk.word_tokenize(text), compact=True)"
   ]
  },
  {
   "cell_type": "markdown",
   "metadata": {},
   "source": [
    "Now you have a workable word list! Remember that punctuation will be counted as individual words, so use <code>str.isalpha()</code> to filter them out later."
   ]
  },
  {
   "cell_type": "markdown",
   "metadata": {},
   "source": [
    "\n",
    "---\n",
    "### <u>Creating Frequency Distributions</u>\n",
    "\n",
    "Now you're ready for __frequency distributions__. A frequency distribution is essentially a table that tells you how many times each word appears within a given text. In NLTK, frequency distributions are a specific object type implemented as a distinct class called <code>FreqDist</code>. This class provides useful operations for word frequency analysis.\n",
    "\n",
    "To build a frequency distribution with NLTK, construct the <code>nltk.FreqDist</code> class with a word list:"
   ]
  },
  {
   "cell_type": "code",
   "execution_count": null,
   "metadata": {},
   "outputs": [],
   "source": [
    "# Using the words list from above\n",
    "\n",
    "fd = nltk.FreqDist(words)"
   ]
  },
  {
   "cell_type": "markdown",
   "metadata": {},
   "source": [
    "This will create a frequency distribution object similar to a [Python dictionary](https://realpython.com/python-dicts/) but with added features.\n",
    "\n",
    "After building the object, you can use methods list <code>.most_common()</code> and <code>.tabulate()</code> to start visualizing information:"
   ]
  },
  {
   "cell_type": "code",
   "execution_count": null,
   "metadata": {},
   "outputs": [],
   "source": [
    "pprint(fd.most_common(8), compact=True)\n",
    "print('\\n')\n",
    "fd.tabulate(8)"
   ]
  },
  {
   "cell_type": "markdown",
   "metadata": {},
   "source": [
    "These methods allow you to quickly determine frequently used words in a sample. With <code>.most_common()</code>, you get a list of tuples containing each word and how many times it appears in your text. You can get the same information in a more readable form with <code>.tabulate()</code>.\n",
    "\n",
    "In addition to these two methods, you can use frequency distributions to query particular words. You can also use them as iterators to perform some custom analysis on word properties.\n",
    "\n",
    "For example, to discover differences in case, you can query for different variations of the same word:"
   ]
  },
  {
   "cell_type": "code",
   "execution_count": null,
   "metadata": {},
   "outputs": [],
   "source": [
    "print(fd['America'])\n",
    "\n",
    "print(fd['america'])   # Note this doesn't result in a KeyError\n",
    "\n",
    "print(fd['AMERICA'])"
   ]
  },
  {
   "cell_type": "markdown",
   "metadata": {},
   "source": [
    "These return values indicate the number of times each word occurs exactly as given.\n",
    "\n",
    "Since frequency distribution objects are [iterable](https://realpython.com/python-for-loop/#iterables), you can use them within [list comprehenstions](https://realpython.com/list-comprehension-python/) to create subsets of the initial distribution. You can focus these subsets on properties that are useful for your own analysis.\n",
    "\n",
    "Try creating a new frequency distribution that's based on the initial one but normalizes all words to lowercase:"
   ]
  },
  {
   "cell_type": "code",
   "execution_count": null,
   "metadata": {},
   "outputs": [],
   "source": [
    "lower_fd = nltk.FreqDist([word.lower() for word in words])\n",
    "\n",
    "lower_fd.tabulate(8)   # Note that some of the most common words have increased in frequency"
   ]
  },
  {
   "cell_type": "markdown",
   "metadata": {},
   "source": [
    "Now you have a more accurate representation of word usage regardless of case.\n",
    "\n",
    "NLTK provides many other ways to represent data from the frequency distribution:"
   ]
  },
  {
   "cell_type": "code",
   "execution_count": null,
   "metadata": {},
   "outputs": [],
   "source": [
    "print(f'Unique words:\\n {lower_fd.B()}')  # Number of unique words\n",
    "\n",
    "print(f'Total words:\\n {lower_fd.N()}')  # Total number of words\n",
    "\n",
    "print(f'Fraction of words that are \\'america\\':\\n {lower_fd.freq('america')}')  # Frequency (as a decimal) of a given word\n",
    "\n",
    "lower_fd.plot(10)   # You may need to install the 'matplotlib' package first for this to work"
   ]
  },
  {
   "cell_type": "markdown",
   "metadata": {},
   "source": [
    "\n",
    "---\n",
    "### <u>Extracting Concordance and Collocations</u>\n",
    "\n",
    "In the context of NLP, a __concordance__ is a collection of word locations along with their context. You can use concordances to find:\n",
    "1. How many time a word appears\n",
    "2. Where each occurrence appears\n",
    "3. What words surround each occurrence\n",
    "\n",
    "In NLTK, you can do this by calling <code>.concordance()</code>. To use it, you need an instance of the <code>nltk.Text</code> class, which can also be constructed with a word list.\n",
    "\n",
    "Before invoking <code>.concordance()</code>, build a new word list from the original corpus text so that all the context, even stop words, will be there:"
   ]
  },
  {
   "cell_type": "code",
   "execution_count": null,
   "metadata": {},
   "outputs": [],
   "source": [
    "text = nltk.Text(nltk.corpus.state_union.words())\n",
    "\n",
    "text.concordance('america', lines=5)"
   ]
  },
  {
   "cell_type": "markdown",
   "metadata": {},
   "source": [
    "Note that <code>.concordance()</code> already ignores case, allowing you to see the context of all case variants of a word in order of appearance. Note also that this function doesn't show you the location of each word in the text.\n",
    "\n",
    "Additionally, since <code>.concordance()</code> only prints information to the console, it's not ideal for data manipulation. To obtain a usable list that will also give you information about the location of each occurrence, use <code>.concordance_list()</code>:"
   ]
  },
  {
   "cell_type": "code",
   "execution_count": null,
   "metadata": {},
   "outputs": [],
   "source": [
    "concordance_list = text.concordance_list('america')\n",
    "\n",
    "for i in range(5):\n",
    "    print(concordance_list[i].line)\n",
    "\n",
    "print('\\n')\n",
    "\n",
    "# Alternatively,\n",
    "concordance_list = text.concordance_list('america', lines=5)\n",
    "\n",
    "for entry in concordance_list:\n",
    "    print(entry.line)"
   ]
  },
  {
   "cell_type": "markdown",
   "metadata": {},
   "source": [
    "<code>.concordance_list()</code> gives you a list of <code>ConcordanceLine</code> objects, which contain information about where each word occurs as well as a few more properties worth exploring. The list is also sorted in order of appearance.\n",
    "\n",
    "The <code>nltk.Text</code> class itself has a few other interesting features. One of them is <code>.vocab()</code>, which is worth mentioning because it creates a frequency distribution for a given text.\n",
    "\n",
    "Revisiting <code>nltk.word_tokenize()</code>, check out how quickly you can create a custom <code>nltk.Text</code> instance and an accompanying frequency distribution:"
   ]
  },
  {
   "cell_type": "code",
   "execution_count": null,
   "metadata": {},
   "outputs": [],
   "source": [
    "words: list[str] = nltk.word_tokenize(\"Beautiful is better than ugly. Explicit is better than implicit. Simple is better than complex.\")\n",
    "\n",
    "text = nltk.Text(words)\n",
    "fd = text.vocab()  # This is equivalent to nltk.FreqDist(words)\n",
    "fd.tabulate(3)"
   ]
  },
  {
   "cell_type": "markdown",
   "metadata": {},
   "source": [
    "<code>.vocab()</code> is essentially a shortcut to create a frequency distribution from an instance of <code>nltk.Text</code>. That way, you don't have to make a separate call to instantiate a new <code>nltk.FreqDist</code> object.\n",
    "\n",
    "Another powerful feature of NLTK is its ability to quickly find __collocations__ with simple function calls. Collocations are series of words that frequently appear together in a given text. In the State of the Union corpus, for example, you'd expect to find the words _United_ and _States_ appearing next to each other very often. Those two words appearing together is a collocation.\n",
    "\n",
    "Collocations can be made up of two or more words. NLTK provides classes to handle several types of collocations:\n",
    "- __Bigrams:__ Frequent two-word combinations\n",
    "- __Trigrams:__ Frequent three-word combinations\n",
    "- __Quadgrams:__ Frequent for-word combinations\n",
    "\n",
    "NLTK provides specific classes for you to find collocations in your text. Following the pattern you've seen so far, these classes are also built from lists of words:"
   ]
  },
  {
   "cell_type": "code",
   "execution_count": null,
   "metadata": {},
   "outputs": [],
   "source": [
    "words = [word for word in nltk.corpus.state_union.words() if word.isalpha()]\n",
    "\n",
    "finder = nltk.collocations.TrigramCollocationFinder.from_words(words)"
   ]
  },
  {
   "cell_type": "markdown",
   "metadata": {},
   "source": [
    "The <code>TrigramCollocationFinder</code> instance will search specifically for trigrams. As you may have guessed, NLTK also has the <code>BigramCollocationFinder</code> and <code>QuadgramCollocationFinder</code> classes for bigrams and quadgrams, respectively. All these classes have a number of utilities to give you information about all identified collocations.\n",
    "\n",
    "One of their most useful tools is the <code>ngram_fd</code> property. This property holds a frequency distribution that is built for each collocation rather than for individual words.\n",
    "\n",
    "Using <code>ngram_fd</code>, you can find the most common collocations in the supplied text:"
   ]
  },
  {
   "cell_type": "code",
   "execution_count": null,
   "metadata": {},
   "outputs": [],
   "source": [
    "pprint(finder.ngram_fd.most_common(5))\n",
    "\n",
    "finder.ngram_fd.tabulate(2)"
   ]
  },
  {
   "cell_type": "markdown",
   "metadata": {},
   "source": [
    "You don't even have to create the frequency distribution, as it's already a property of the collocation finder instance."
   ]
  },
  {
   "cell_type": "markdown",
   "metadata": {},
   "source": [
    "\n",
    "---\n",
    "##  <u>Using NLTK's Pre-Trained Sentiment Analyzer</u>\n",
    "\n",
    "NLTK already has a built-in, pretrained sentiment analyzer called VADER (Valence Aware Dictionary and sEntiment Reasoner).\n",
    "\n",
    "Since VADER is pretrained, you can get results more quickly than with many other analyzers. However, VADER is best suited for language used in social media, like short sentences with some slang and abbreviations. It's less accurate when rating longer, structured sentences, but it's often a good launching point.\n",
    "\n",
    "To use VADER, first create an instance of <code>nltk.sentiment.SentimentIntensityAnalyzer</code>, then use <code>.polarity_scores()</code> on a raw string:"
   ]
  },
  {
   "cell_type": "code",
   "execution_count": null,
   "metadata": {},
   "outputs": [],
   "source": [
    "from nltk.sentiment import SentimentIntensityAnalyzer\n",
    "\n",
    "sia = SentimentIntensityAnalyzer()\n",
    "sia.polarity_scores('Wow, NLTK is really powerful!')"
   ]
  },
  {
   "cell_type": "markdown",
   "metadata": {},
   "source": [
    "You'll get back a dictionary of different scores. The negative, neutral, and positive scores are related: They all add up to 1 and can't be negative. The compound score is calculated differently. It's not just an average, and it can range from -1 to 1.\n",
    "\n",
    "Now you'll put it to the test against real data using two different corpora. First, load to <code>twitter_samples</code> corpus into a list of strings, making a replacement to render URLs inactive to avoid accidental clicks:"
   ]
  },
  {
   "cell_type": "code",
   "execution_count": null,
   "metadata": {},
   "outputs": [],
   "source": [
    "tweets = [tweet.replace('://', '//') for tweet in nltk.corpus.twitter_samples.strings()]"
   ]
  },
  {
   "cell_type": "markdown",
   "metadata": {},
   "source": [
    "Notice that you use a different corpus method, <code>.strings()</code>, instead of <code>.words()</code>. This gives you a list of raw tweets as strings.\n",
    "\n",
    "Different corpora have different features, so you may need to use Python's <code>help()</code>, as in <code>help(nltk.corpus.tweet_samples)</code>, or consult NLTK's documentation to learn how to use a given corpus.\n",
    "\n",
    "Now use the <code>.polarity_scores()</code> function of your <code>SentimentIntensityAnalyzer</code> instance to classify tweets:"
   ]
  },
  {
   "cell_type": "code",
   "execution_count": null,
   "metadata": {},
   "outputs": [],
   "source": [
    "from random import shuffle\n",
    "\n",
    "def is_positive(tweet: str) -> bool:\n",
    "    \"\"\"True if tweet has positive compound sentiment, False otherwise\"\"\"\n",
    "    return sia.polarity_scores(tweet)[\"compound\"] > 0\n",
    "\n",
    "shuffle(tweets)\n",
    "for tweet in tweets[:10]:\n",
    "    print(\">\", is_positive(tweet), tweet)"
   ]
  },
  {
   "cell_type": "markdown",
   "metadata": {},
   "source": [
    "In this case, <code>is_positive()</code> uses only the positivity of the compound score to make the call. You can choose any combination of VADER scores to tweak the classification to your needs.\n",
    "\n",
    "Now take a look at the second corpus, <code>movie_reviews</code>. As the name implies, this is a collection of movie reviews. The special thing about this corpus is that it's already been classified. Therefore, you can use it to judge the accuracy of the algorithms you choose when rating similar texts.\n",
    "\n",
    "Keep in mind that VADER is likely better at rating tweets than it is at rating long movie reviews. To get better results, you'll set up VADER to rate individual sentences within the review rather than the entire text.\n",
    "\n",
    "Since VADER needs raw strings for its rating, you can't use <code>.words()</code> like you did earlier. Instead, make a list of the file IDs that the corpus uses, which you can use later to reference individual reviews:"
   ]
  },
  {
   "cell_type": "code",
   "execution_count": null,
   "metadata": {},
   "outputs": [],
   "source": [
    "positive_review_ids = nltk.corpus.movie_reviews.fileids(categories=[\"pos\"])\n",
    "negative_review_ids = nltk.corpus.movie_reviews.fileids(categories=[\"neg\"])\n",
    "all_review_ids = positive_review_ids + negative_review_ids"
   ]
  },
  {
   "cell_type": "markdown",
   "metadata": {},
   "source": [
    "<code>.fileids()</code> exists in most, if not all, corpora. In the case of <code>movie_reviews</code>, each file corresponds to a single review. Note also that you're able to filter the list of file IDs by specifyinng categories. This categorization is a feature specific to this corpus and others of the same type.\n",
    "\n",
    "Next, redefine <code>is_positive()</code> to work on an entire review. You'll need to obtain that specific review using its file ID and then split it into sentences before rating:"
   ]
  },
  {
   "cell_type": "code",
   "execution_count": null,
   "metadata": {},
   "outputs": [],
   "source": [
    "from statistics import mean\n",
    "\n",
    "def is_positive(review_id: str) -> bool:\n",
    "    \"\"\"True if the average of all sentence compound scores is positive\"\"\"\n",
    "    text = nltk.corpus.movie_reviews.raw(review_id)\n",
    "    scores = [\n",
    "        sia.polarity_scores(sentence)[\"compound\"]\n",
    "        for sentence in nltk.sent_tokenize(text)\n",
    "    ]\n",
    "    return mean(scores) > 0"
   ]
  },
  {
   "cell_type": "markdown",
   "metadata": {},
   "source": [
    "<code>.raw()</code> is another method that exists in most corpora. By specifying a file ID or a list of file IDs, you can obtain specific data from the corpus. Here, you get a single review, then use <code>nltk.sent_tokenize()</code> to obtain a list of sentences from the review. Finally, <code>is_positive()</code> calculates the average compound score for all sentences and associates a positive result with a positive review.\n",
    "\n",
    "You can take the opportunity to rate all the reviews and see how accurate VADER is with this setup:"
   ]
  },
  {
   "cell_type": "code",
   "execution_count": null,
   "metadata": {},
   "outputs": [],
   "source": [
    "shuffle(all_review_ids)\n",
    "correct = 0\n",
    "for review_id in all_review_ids:\n",
    "    if is_positive(review_id):\n",
    "        if review_id in positive_review_ids:\n",
    "            correct += 1\n",
    "    else:\n",
    "        if review_id in negative_review_ids:\n",
    "            correct += 1\n",
    "\n",
    "print(f'{correct / len(all_review_ids):.2%} correct')"
   ]
  },
  {
   "cell_type": "markdown",
   "metadata": {},
   "source": [
    "After rating all reviews, you can see that only 64 percent were correctly classified by VADER using the logic defined in <code>is_positive()</code>.\n",
    "\n",
    "Have a little fun tweaking <code>is_positive()</code> to see if you can increase the accuracy."
   ]
  },
  {
   "cell_type": "markdown",
   "metadata": {},
   "source": [
    "\n",
    "---\n",
    "## <u>Customizing NLTK's Sentiment Analysis</u>\n",
    "\n",
    "NLTK offers a few built-in classifiers that are suitable for various types of analyses, including sentiment analysis. The trick is to figure out which properties of your dataset are useful in classifying each piece of data into you desired categories.\n",
    "\n",
    "In the world of machine learning, these data properties are known as __features__, which you must reveal and select as you work with your data. While this notebook won't dive too deeply into [feature selection](https://en.wikipedia.org/wiki/Feature_selection) and [feature engineering](https://en.wikipedia.org/wiki/Feature_engineering), you'll be able to see their effects on the accuracy of classifiers.\n",
    "\n",
    "### Selecting Useful Features\n",
    "\n",
    "Since you've learned how to use frequency distributions, why not use them as a launching point for an additional feature?\n",
    "\n",
    "By using the predefined categories in the <code>movie_reviews</code> corpus, you can create sets of positive and negative words, then determine which ones occur most frequently across each set. Begin by excluding unwanted words and building the initial category groups:"
   ]
  },
  {
   "cell_type": "code",
   "execution_count": 24,
   "metadata": {},
   "outputs": [],
   "source": [
    "unwanted = nltk.corpus.stopwords.words(\"english\")\n",
    "unwanted.extend([w.lower() for w in nltk.corpus.names.words()])\n",
    "\n",
    "def skip_unwanted(pos_tuple):\n",
    "    word, tag = pos_tuple\n",
    "    if not word.isalpha() or word in unwanted:\n",
    "        return False\n",
    "    if tag.startswith(\"NN\"):\n",
    "        return False\n",
    "    return True\n",
    "\n",
    "positive_words = [word for word, tag in filter(\n",
    "    skip_unwanted, \n",
    "    nltk.pos_tag(nltk.corpus.movie_reviews.words(categories=[\"pos\"]))\n",
    ")]\n",
    "negative_words = [word for word, tag in filter(\n",
    "    skip_unwanted, \n",
    "    nltk.pos_tag(nltk.corpus.movie_reviews.words(categories=[\"neg\"]))\n",
    ")]"
   ]
  },
  {
   "cell_type": "markdown",
   "metadata": {},
   "source": [
    "This time, you also add words from the <code>names</code> corpus to the <code>unwanted</code> list on line 2 since movie reviews are likely to have lots of actor names, whch shouldn't be part of the feature sets. Notice <code>pos_tag()</code> on lines 14 and 18, which tags words by their part of speech.\n",
    "\n",
    "It's important to call <code>pos_tag()</code> _before_ filtering your word lists so that NLTK can more accurately tag all words. <code>skip_unwanted()</code>, defined on line 4, then uses those tags to exclude nouns, according to NLTK's [default tag set](https://www.ling.upenn.edu/courses/Fall_2003/ling001/penn_treebank_pos.html).\n",
    "\n",
    "Now you're ready to create the frequency distributions for your custom feature. Since many words are present in both positive and negative sets, begin by finding the common set so you can remove it from the distribution objects:"
   ]
  },
  {
   "cell_type": "code",
   "execution_count": 25,
   "metadata": {},
   "outputs": [],
   "source": [
    "positive_fd = nltk.FreqDist(positive_words)\n",
    "negative_fd = nltk.FreqDist(negative_words)\n",
    "\n",
    "common_set = set(positive_fd).intersection(negative_fd)\n",
    "\n",
    "for word in common_set:\n",
    "    del positive_fd[word]\n",
    "    del negative_fd[word]\n",
    "\n",
    "top_100_positive = {word for word, count in positive_fd.most_common(100)}\n",
    "top_100_negative = {word for word, count in negative_fd.most_common(100)}"
   ]
  },
  {
   "cell_type": "markdown",
   "metadata": {},
   "source": [
    "Once you're left with unique positive and negative words in each frequency distribution object, you can finally build sets from the most common words in each distribution. The amount of words in each set is something you could tweak in order to determine its effect on sentiment analysis.\n",
    "\n",
    "This is one example of a feature you can extract from your data, and it's far from perfect. Looking closely at these sets, you'll notice some uncommon names and words that aren't necessarily positive or negative. Additionally, the other NLTK tools you've learned so far can be useful for building more features. One possibility is to leverage collocations that carry positive meaning, like the bigram \"thumbs up!\"\n",
    "\n",
    "Here's how to set up the positive and negative bigram finders:"
   ]
  },
  {
   "cell_type": "code",
   "execution_count": 26,
   "metadata": {},
   "outputs": [],
   "source": [
    "positive_bigram_finder = nltk.collocations.BigramCollocationFinder.from_words([\n",
    "    word for word in nltk.corpus.movie_reviews.words(categories=[\"pos\"])\n",
    "    if word.isalpha() and word not in unwanted\n",
    "])\n",
    "\n",
    "negative_bigram_finder = nltk.collocations.BigramCollocationFinder.from_words([\n",
    "    word for word in nltk.corpus.movie_reviews.words(categories=[\"neg\"])\n",
    "    if word.isalpha() and word not in unwanted\n",
    "])"
   ]
  },
  {
   "cell_type": "markdown",
   "metadata": {},
   "source": [
    "Try different combinations of features, think of ways to use the negative VADER scores, create ratios, polish the frequency distributions. The possibilities are endless!\n",
    "\n",
    "### Training and Using a Classifier\n",
    "\n",
    "With your new feature set ready to use, the first prerequisite for training a classifier is to define a function that will extract features from a given piece of data.\n",
    "\n",
    "Since you're looking for positive movie reviews, focus on the features that indicate positivity, including VADER scores:"
   ]
  },
  {
   "cell_type": "code",
   "execution_count": 27,
   "metadata": {},
   "outputs": [],
   "source": [
    "def extract_features(text):\n",
    "    features = dict()\n",
    "    wordcount = 0\n",
    "    compound_scores = list()\n",
    "    positive_scores = list()\n",
    "\n",
    "    for sentence in nltk.sent_tokenize(text):\n",
    "        for word in nltk.word_tokenize(sentence):\n",
    "            if word.lower() in top_100_positive:\n",
    "                wordcount += 1\n",
    "        compound_scores.append(sia.polarity_scores(sentence)[\"compound\"])\n",
    "        positive_scores.append(sia.polarity_scores(sentence)[\"pos\"])\n",
    "\n",
    "    # Add 1 to the final compound score to always have positive numbers\n",
    "    # since some classifiers used later don't work with negative numbers.\n",
    "    features[\"mean_compound\"] = mean(compound_scores) + 1\n",
    "    features[\"mean_positive\"] = mean(positive_scores)\n",
    "    features[\"wordcount\"] = wordcount\n",
    "\n",
    "    return features"
   ]
  },
  {
   "cell_type": "markdown",
   "metadata": {},
   "source": [
    "<code>extract_features()</code> should return a dictionary, and it will create three features for each piece of text:\n",
    "1. The average compound score\n",
    "2. The average positive score\n",
    "3. The amount of words in the text that are also part of the top 100 words in all positive reviews\n",
    "\n",
    "In order to train and evaluate a classifier, you'll need to build a list of features for each text you'll analyze:"
   ]
  },
  {
   "cell_type": "code",
   "execution_count": 28,
   "metadata": {},
   "outputs": [],
   "source": [
    "features = [\n",
    "   (extract_features(nltk.corpus.movie_reviews.raw(review)), \"pos\")\n",
    "   for review in nltk.corpus.movie_reviews.fileids(categories=[\"pos\"])\n",
    "]\n",
    "features.extend([\n",
    "   (extract_features(nltk.corpus.movie_reviews.raw(review)), \"neg\")\n",
    "   for review in nltk.corpus.movie_reviews.fileids(categories=[\"neg\"])\n",
    "])"
   ]
  },
  {
   "cell_type": "markdown",
   "metadata": {},
   "source": [
    "Each item in this list of features needs to be a tuple whose first item is the dictionary returned by <code>extract_features</code> and whose second item is the predefined category for the text. After initially training the classifier with some data that has already been categorized (such as the <code>movie_reviews</code> corpus), you'll be able to classify new data.\n",
    "\n",
    "Training the classifier involves splitting the feature set so that one portion can be used for training and the other for evaluation, then calling <code>.train()</code>:"
   ]
  },
  {
   "cell_type": "code",
   "execution_count": 29,
   "metadata": {},
   "outputs": [
    {
     "name": "stdout",
     "output_type": "stream",
     "text": [
      "Most Informative Features\n",
      "               wordcount = 2                 pos : neg    =      3.0 : 1.0\n",
      "               wordcount = 4                 pos : neg    =      2.2 : 1.0\n",
      "               wordcount = 0                 neg : pos    =      1.8 : 1.0\n",
      "               wordcount = 1                 pos : neg    =      1.6 : 1.0\n",
      "           mean_positive = 0.09305263157894737    neg : pos    =      1.0 : 1.0\n"
     ]
    },
    {
     "data": {
      "text/plain": [
       "0.654"
      ]
     },
     "execution_count": 29,
     "metadata": {},
     "output_type": "execute_result"
    }
   ],
   "source": [
    "# Using 1/4 of the set for training\n",
    "train_count = len(features) // 4\n",
    "shuffle(features)\n",
    "\n",
    "classifier = nltk.NaiveBayesClassifier.train(features[:train_count])\n",
    "classifier.show_most_informative_features(10)\n",
    "\n",
    "nltk.classify.accuracy(classifier, features[train_count:])"
   ]
  },
  {
   "cell_type": "markdown",
   "metadata": {},
   "source": [
    "Since you're shuffling the feature list, each run will give you different results. In fact, it's important to shuffle the list to avoid accidentally grouping similarly classified reviews in the first quarter of the list.\n",
    "\n",
    "Adding a single feature has marginally improved VADER's initial accuracy, from 64 percent to 67 percent. More features could help, as long as they truly indicate how positive a review is. You can use <code>classifier.show_most_informative_features()</code> to determine which features are most indicative of a specific property.\n",
    "\n",
    "To classify new data, find a movie review somewhere and pass it to <code>classifier.classify()</code>. You can also use <code>extract_features()</code> to tell you exactly how it was scored:"
   ]
  },
  {
   "cell_type": "code",
   "execution_count": 30,
   "metadata": {},
   "outputs": [
    {
     "name": "stdout",
     "output_type": "stream",
     "text": [
      "{'mean_compound': 1.0239, 'mean_positive': 0.19433333333333333, 'wordcount': 1}\n",
      "pos\n",
      "\n",
      "\n",
      "{'mean_compound': 1.0585333333333333,\n",
      " 'mean_positive': 0.06533333333333334,\n",
      " 'wordcount': 0}\n",
      "neg\n"
     ]
    }
   ],
   "source": [
    "# Review source: https://www.rogerebert.com/reviews/\n",
    "\n",
    "new_good_review = \"Ilker Çatak's \\\"The Teacher's Lounge\\\" is glorious. It's probably the best thriller of this type since \\\"Uncut Gems,\\\" another movie where just watching realistic characters making bad decisions was so nerve-wracking that it made you want to crawl under your seat. I don't know if it quite earns the somewhat muted, art cinema-styled, \\\"It's up to you to decide what happens next\\\" ending that it ultimately gives us; but that's a tiny fraction of the movie's compact running time, which otherwise puts us in the headspace of a young teacher at a German secondary school where an outbreak of stealing has made everyone paranoid and edgy, leading them to make choices they're going to regret later, if they have a shred of decency (some of them may not).\"\n",
    "\n",
    "good_feats = extract_features(new_good_review)\n",
    "pprint(good_feats)\n",
    "print(classifier.classify(good_feats))\n",
    "\n",
    "print('\\n')\n",
    "new_bad_review = \"\\\"Migration,\\\" sadly, is so bereft of any real point of interest for any viewer over the age of 8, that it almost makes “Dawn of the Nugget” look like Miyazaki's latest film by comparison. How bereft, you may wonder? So bereft that I plan to avoid using any bird-related comments that I suspect will accompany other reviews on the basis that even those critiques, as hackneyed as they may be, demonstrate greater flashes of wit and ingenuity than anything on display here.\"\n",
    "\n",
    "bad_feats = extract_features(new_bad_review)\n",
    "pprint(bad_feats)\n",
    "print(classifier.classify(bad_feats))"
   ]
  },
  {
   "cell_type": "markdown",
   "metadata": {},
   "source": [
    "Was it correct? Based on the scoring output from <code>extract_features()</code>, what can be improved?\n",
    "\n",
    "Feature engineering is a big part of improving the accuracy of a given algorithm, but it's not the whole story. Another strategy is to use and compare different classifiers."
   ]
  },
  {
   "cell_type": "markdown",
   "metadata": {},
   "source": [
    "\n",
    "---\n",
    "## <u>Comparing Additional Classifiers</u>\n",
    "\n",
    "NLTK provides a class that can use most classifiers from the popular machine learning framework [scikit-learn](https://scikit-learn.org/stable/).\n",
    "\n",
    "Many of the classifiers that scikit-learn provides can be instantiated quickly since they have defaults that often work well. In this section, you'll learn how to integrate them within NLTK to classify linguistic data.\n",
    "\n",
    "### Installing and Importing scikit-learn\n",
    "\n",
    "Like NLTK, scikit-learn is a third-party Python library, so you'll have to install it with <code>pip install scikit-learn</code>.\n",
    "\n",
    "After installing scikit-learn, you'll be able to use its classifiers directly with NLTK.\n",
    "\n",
    "The following classifiers are a subset of all classifiers available to you. These will work within NLTK for sentiment analysis:"
   ]
  },
  {
   "cell_type": "code",
   "execution_count": 31,
   "metadata": {},
   "outputs": [],
   "source": [
    "from sklearn.naive_bayes import (\n",
    "    BernoulliNB,\n",
    "    ComplementNB,\n",
    "    MultinomialNB,\n",
    ")\n",
    "from sklearn.neighbors import KNeighborsClassifier\n",
    "from sklearn.tree import DecisionTreeClassifier\n",
    "from sklearn.ensemble import RandomForestClassifier, AdaBoostClassifier\n",
    "from sklearn.neural_network import MLPClassifier"
   ]
  },
  {
   "cell_type": "markdown",
   "metadata": {},
   "source": [
    "With these classifiers imported, you'll first have to instantiate each one. Thankfully, all of these have pretty good defaults and don't require much tweaking.\n",
    "\n",
    "To aid in accuracy evaluation, it's helpful to have a mapping of classifier names and their instances:"
   ]
  },
  {
   "cell_type": "code",
   "execution_count": 32,
   "metadata": {},
   "outputs": [],
   "source": [
    "classifiers = {\n",
    "    \"BernoulliNB\": BernoulliNB(),\n",
    "    \"ComplementNB\": ComplementNB(),\n",
    "    \"MultinomialNB\": MultinomialNB(),\n",
    "    \"KNeighborsClassifier\": KNeighborsClassifier(),\n",
    "    \"DecisionTreeClassifier\": DecisionTreeClassifier(),\n",
    "    \"RandomForestClassifier\": RandomForestClassifier(),\n",
    "    \"MLPClassifier\": MLPClassifier(max_iter=1000),\n",
    "    \"AdaBoostClassifier\": AdaBoostClassifier(),\n",
    "}"
   ]
  },
  {
   "cell_type": "markdown",
   "metadata": {},
   "source": [
    "Now you can use these instances for training and accuracy evaluation.\n",
    "\n",
    "### Using scikit-learn Classifiers With NLTK\n",
    "\n",
    "Since NLTK allows you to integrate scikit-learn classifiers directly into its own classifier class, the training and classification processes will use the same methods you've already seen, <code>.train()</code> and <code>.classify()</code>.\n",
    "\n",
    "You'll also be able to leverage the same <code>features</code> list you built earlier by means of <code>extract_features()</code>. As a refresher, here is how the list was built:"
   ]
  },
  {
   "cell_type": "code",
   "execution_count": 33,
   "metadata": {},
   "outputs": [],
   "source": [
    "features = [\n",
    "   (extract_features(nltk.corpus.movie_reviews.raw(review)), \"pos\")\n",
    "   for review in nltk.corpus.movie_reviews.fileids(categories=[\"pos\"])\n",
    "]\n",
    "features.extend([\n",
    "   (extract_features(nltk.corpus.movie_reviews.raw(review)), \"neg\")\n",
    "   for review in nltk.corpus.movie_reviews.fileids(categories=[\"neg\"])\n",
    "])"
   ]
  },
  {
   "cell_type": "markdown",
   "metadata": {},
   "source": [
    "The <code>features</code> list contains tuples whose first item is a set of features given by <code>extract_features()</code>, and whose second item is the classification label from preclassified data in the <code>movie_reviews</code> corpus.\n",
    "\n",
    "Since the first half of the list contains only positive reviews, begin by shuffling it, then iterate over all classifiers to train and evaluate each one:"
   ]
  },
  {
   "cell_type": "code",
   "execution_count": 34,
   "metadata": {},
   "outputs": [
    {
     "name": "stdout",
     "output_type": "stream",
     "text": [
      "65.73% - BernoulliNB\n",
      "64.93% - ComplementNB\n",
      "65.20% - MultinomialNB\n",
      "69.53% - KNeighborsClassifier\n",
      "63.20% - DecisionTreeClassifier\n",
      "69.67% - RandomForestClassifier\n",
      "72.40% - MLPClassifier\n",
      "71.73% - AdaBoostClassifier\n"
     ]
    }
   ],
   "source": [
    "# Use 1/4 of the set for training\n",
    "\n",
    "train_count = len(features) // 4\n",
    "shuffle(features)\n",
    "for name, sklearn_classifier in classifiers.items():\n",
    "    classifier = nltk.classify.SklearnClassifier(sklearn_classifier)\n",
    "    classifier.train(features[:train_count])\n",
    "    accuracy = nltk.classify.accuracy(classifier, features[train_count:])\n",
    "    print(f'{accuracy:.2%} - {name}')"
   ]
  },
  {
   "cell_type": "markdown",
   "metadata": {},
   "source": [
    "For each scikit-learn classifier, call <code>nltk.classify.SklearnClassifier</code> to create a usable NLTK classifier that can be trained and evaluated exactly like you've seen before with <code>nltk.NaiveBayesClassifier</code> and its other built-n classifiers. The <code>.train()</code> and <code>.accuracy()</code> methods should receive different portions of the same list of features."
   ]
  }
 ],
 "metadata": {
  "kernelspec": {
   "display_name": "Python 3",
   "language": "python",
   "name": "python3"
  },
  "language_info": {
   "codemirror_mode": {
    "name": "ipython",
    "version": 3
   },
   "file_extension": ".py",
   "mimetype": "text/x-python",
   "name": "python",
   "nbconvert_exporter": "python",
   "pygments_lexer": "ipython3",
   "version": "3.12.1"
  }
 },
 "nbformat": 4,
 "nbformat_minor": 2
}
